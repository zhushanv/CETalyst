{
 "cells": [
  {
   "cell_type": "code",
   "execution_count": 1,
   "metadata": {},
   "outputs": [
    {
     "name": "stdout",
     "output_type": "stream",
     "text": [
      "Requirement already satisfied: requests in d:\\projects\\cetalyst\\venv\\lib\\site-packages (2.32.3)\n",
      "Requirement already satisfied: charset-normalizer<4,>=2 in d:\\projects\\cetalyst\\venv\\lib\\site-packages (from requests) (3.4.1)\n",
      "Requirement already satisfied: idna<4,>=2.5 in d:\\projects\\cetalyst\\venv\\lib\\site-packages (from requests) (3.10)\n",
      "Requirement already satisfied: urllib3<3,>=1.21.1 in d:\\projects\\cetalyst\\venv\\lib\\site-packages (from requests) (2.3.0)\n",
      "Requirement already satisfied: certifi>=2017.4.17 in d:\\projects\\cetalyst\\venv\\lib\\site-packages (from requests) (2025.1.31)\n",
      "Note: you may need to restart the kernel to use updated packages.\n"
     ]
    }
   ],
   "source": [
    "%pip install requests"
   ]
  },
  {
   "cell_type": "code",
   "execution_count": 2,
   "metadata": {},
   "outputs": [],
   "source": [
    "import requests\n",
    "import pprint"
   ]
  },
  {
   "cell_type": "code",
   "execution_count": 3,
   "metadata": {},
   "outputs": [
    {
     "data": {
      "text/plain": [
       "'http://localhost:8002/'"
      ]
     },
     "execution_count": 3,
     "metadata": {},
     "output_type": "execute_result"
    }
   ],
   "source": [
    "base_url = \"http://localhost:8002\"\n",
    "path = \"/\"\n",
    "endpoint = f\"{base_url}{path}\"\n",
    "endpoint"
   ]
  },
  {
   "cell_type": "code",
   "execution_count": 4,
   "metadata": {},
   "outputs": [
    {
     "name": "stdout",
     "output_type": "stream",
     "text": [
      "ok True\n",
      "{'message': 'Hello, World!'}\n"
     ]
    }
   ],
   "source": [
    "response = requests.get(endpoint)\n",
    "print(\"ok\", response.ok)\n",
    "print(response.json())"
   ]
  },
  {
   "cell_type": "code",
   "execution_count": 9,
   "metadata": {},
   "outputs": [
    {
     "name": "stdout",
     "output_type": "stream",
     "text": [
      "ok True\n",
      "{'CET-4': ['allow',\n",
      "           'benefit',\n",
      "           'decision',\n",
      "           'derive',\n",
      "           'discount',\n",
      "           'exceed',\n",
      "           'helpful',\n",
      "           'improve',\n",
      "           'involve',\n",
      "           'item',\n",
      "           'joy',\n",
      "           'list',\n",
      "           'part',\n",
      "           'percentage',\n",
      "           'physical',\n",
      "           'purchase',\n",
      "           'pursue',\n",
      "           'seed',\n",
      "           'solely',\n",
      "           'southern',\n",
      "           'value'],\n",
      " 'CET-6': ['browse',\n",
      "           'catalogue',\n",
      "           'couch',\n",
      "           'deduct',\n",
      "           'esthetic',\n",
      "           'notation',\n",
      "           'ritual'],\n",
      " '其他': [\"'s\",\n",
      "        ',',\n",
      "        '.',\n",
      "        'a',\n",
      "        'about',\n",
      "        'and',\n",
      "        'be',\n",
      "        'become',\n",
      "        'by',\n",
      "        'canada',\n",
      "        'condition.it',\n",
      "        'cost',\n",
      "        'coupon',\n",
      "        'early',\n",
      "        'exercise',\n",
      "        'for',\n",
      "        'from',\n",
      "        'garden',\n",
      "        'garden.if',\n",
      "        'good',\n",
      "        'have',\n",
      "        'hobby',\n",
      "        'home',\n",
      "        'homeowner',\n",
      "        'in',\n",
      "        'keep',\n",
      "        'late',\n",
      "        'life',\n",
      "        'make',\n",
      "        'of',\n",
      "        'often',\n",
      "        'on',\n",
      "        'one',\n",
      "        'only',\n",
      "        'ontario',\n",
      "        'or',\n",
      "        'order',\n",
      "        'people',\n",
      "        'pleasure',\n",
      "        'price',\n",
      "        'quiet',\n",
      "        'right',\n",
      "        'sit',\n",
      "        'spend',\n",
      "        'the',\n",
      "        'their',\n",
      "        'therapeutic',\n",
      "        'there',\n",
      "        'they',\n",
      "        'this',\n",
      "        'through',\n",
      "        'to',\n",
      "        'usually',\n",
      "        'weekend',\n",
      "        'whether',\n",
      "        'while',\n",
      "        'winter',\n",
      "        'wish',\n",
      "        'work',\n",
      "        'year']}\n"
     ]
    }
   ],
   "source": [
    "path = \"/classify\"\n",
    "endpoint = f\"{base_url}{path}\"\n",
    "input = \"\"\" \n",
    "    Gardening\n",
    "One of the quiet joys of life in the southern part of Ontario, Canada, is gardening.\n",
    "\n",
    "Whether pursued as a hobby or solely to improve the esthetic value of one's home, the pleasure derived is only exceeded by the therapeutic benefit. \n",
    "The exercise involved in working in a garden is helpful in keeping people in good physical condition.It has become a ritual for homeowners to spend late winter\n",
    " weekends browsing through seed catalogues while sitting on their couch. They make lists of items they wish to purchase and often make notations right on the catalogue \n",
    " as they make decisions about this year's garden.If they order early, there is usually a discount coupon, allowing a percentage of the cost to be deducted from the price\n",
    "\"\"\"\n",
    "response = requests.post(endpoint, json={\"text\": input})\n",
    "print(\"ok\", response.ok)\n",
    "if(response.ok):\n",
    "    pprint.pprint(response.json())\n",
    "else:\n",
    "    print(response.text)"
   ]
  },
  {
   "cell_type": "code",
   "execution_count": null,
   "metadata": {},
   "outputs": [],
   "source": []
  }
 ],
 "metadata": {
  "kernelspec": {
   "display_name": "venv",
   "language": "python",
   "name": "python3"
  },
  "language_info": {
   "codemirror_mode": {
    "name": "ipython",
    "version": 3
   },
   "file_extension": ".py",
   "mimetype": "text/x-python",
   "name": "python",
   "nbconvert_exporter": "python",
   "pygments_lexer": "ipython3",
   "version": "3.13.2"
  }
 },
 "nbformat": 4,
 "nbformat_minor": 2
}
