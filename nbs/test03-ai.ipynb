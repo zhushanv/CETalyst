{
 "cells": [
  {
   "cell_type": "code",
   "execution_count": 21,
   "metadata": {},
   "outputs": [],
   "source": [
    "from openai import OpenAI\n",
    "import json\n",
    "\n",
    "client = OpenAI(api_key=\"sk-3fc5030e1f144b30990ef0c40940c66e\", base_url=\"https://api.deepseek.com\")"
   ]
  },
  {
   "cell_type": "code",
   "execution_count": 22,
   "metadata": {},
   "outputs": [],
   "source": [
    "def build_messages(text):\n",
    "    return [\n",
    "        {\n",
    "            \"role\": \"system\",\n",
    "            \"content\": (\n",
    "                \"You are an expert in English grammar and writing. \"\n",
    "                \"You are helping Chinese students prepare for the CET-4 and CET-6 exams. \"\n",
    "                \"Your task is to analyze a complex English passage and extract:\\n\"\n",
    "                \"1) paragraph structure,\\n\"\n",
    "                \"2) beautiful expressions,\\n\"\n",
    "                \"3) grammar highlights,\\n\"\n",
    "                \"4) writing techniques.\\n\\n\"\n",
    "                \"Return your response in **valid JSON format only**, no explanations, no extra comments. \"\n",
    "                \"The structure should look like this:\\n\\n\"\n",
    "                \"{\\n\"\n",
    "                '  \"structure\": [\"主题句：...\", \"扩展说明：...\"],\\n'\n",
    "                '  \"expressions\": [\\n'\n",
    "                '    { \"phrase\": \"quiet joys\", \"meaning\": \"静谧的喜悦\", \"comment\": \"quiet的妙用\" }\\n'\n",
    "                \"  ],\\n\"\n",
    "                '  \"grammar\": [\"被动语态...\", \"现在分词...\"],\\n'\n",
    "                '  \"tips\": [\"双重好处表达法...\", \"场景描写技巧...\"]\\n'\n",
    "                \"}\\n\\n\"\n",
    "                \"Respond in Chinese.\"\n",
    "            )\n",
    "        },\n",
    "        {\n",
    "            \"role\": \"user\",\n",
    "            \"content\": f\"请分析以下英文段落：\\n\\n\\\"{text}\\\"\"\n",
    "        }\n",
    "    ]"
   ]
  },
  {
   "cell_type": "code",
   "execution_count": 23,
   "metadata": {},
   "outputs": [],
   "source": [
    "def analyze(text):\n",
    "    \n",
    "    messages = build_messages(text)\n",
    "    response = client.chat.completions.create(\n",
    "        # response_format={\"type\": \"json_object\"},\n",
    "        model=\"deepseek-chat\",\n",
    "        messages=messages,\n",
    "        max_tokens=500,\n",
    "    )\n",
    "    return response.choices[0].message.content"
   ]
  },
  {
   "cell_type": "code",
   "execution_count": 24,
   "metadata": {},
   "outputs": [],
   "source": [
    "\n",
    "test_sentence = \"Despite being warned repeatedly, he remained indifferent to the consequences, which eventually led to his downfall.\"\n",
    "result = analyze(test_sentence)\n"
   ]
  },
  {
   "cell_type": "code",
   "execution_count": 26,
   "metadata": {},
   "outputs": [],
   "source": [
    "#函数提纯json内容\n",
    "import re\n",
    "\n",
    "def extract_json(text):\n",
    "    # 匹配 ```json\\n{...}\\n``` 结构或直接 { 开头\n",
    "    match = re.search(r\"```json\\s*({.*?})\\s*```\", text, re.DOTALL)\n",
    "    if match:\n",
    "        return match.group(1)\n",
    "    elif text.strip().startswith(\"{\"):\n",
    "        return text.strip()\n",
    "    else:\n",
    "        return None\n"
   ]
  },
  {
   "cell_type": "code",
   "execution_count": 29,
   "metadata": {},
   "outputs": [
    {
     "name": "stdout",
     "output_type": "stream",
     "text": [
      "<class 'str'>\n",
      "{\n",
      "  \"structure\": [\"主题句：Despite being warned repeatedly, he remained indifferent to the consequences\", \"扩展说明：which eventually led to his downfall\"],\n",
      "  \"expressions\": [\n",
      "    { \"phrase\": \"remained indifferent\", \"meaning\": \"保持冷漠\", \"comment\": \"remain的持续状态表达\" },\n",
      "    { \"phrase\": \"eventually led to\", \"meaning\": \"最终导致\", \"comment\": \"因果关系的递进表达\" }\n",
      "  ],\n",
      "  \"grammar\": [\"被动语态：being warned\", \"定语从句：which eventually led to his downfall\"],\n",
      "  \"tips\": [\"警告与结果的对比手法\", \"后果递进描写技巧\"]\n",
      "}\n"
     ]
    }
   ],
   "source": [
    "json_text = extract_json(result)\n",
    "print(json_text)"
   ]
  },
  {
   "cell_type": "code",
   "execution_count": null,
   "metadata": {},
   "outputs": [],
   "source": []
  }
 ],
 "metadata": {
  "kernelspec": {
   "display_name": "venv",
   "language": "python",
   "name": "python3"
  },
  "language_info": {
   "codemirror_mode": {
    "name": "ipython",
    "version": 3
   },
   "file_extension": ".py",
   "mimetype": "text/x-python",
   "name": "python",
   "nbconvert_exporter": "python",
   "pygments_lexer": "ipython3",
   "version": "3.13.2"
  }
 },
 "nbformat": 4,
 "nbformat_minor": 2
}
