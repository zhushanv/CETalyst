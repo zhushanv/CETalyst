{
 "cells": [
  {
   "cell_type": "code",
   "execution_count": 19,
   "metadata": {},
   "outputs": [],
   "source": [
    "import requests\n",
    "import json"
   ]
  },
  {
   "cell_type": "code",
   "execution_count": 11,
   "metadata": {},
   "outputs": [
    {
     "name": "stdout",
     "output_type": "stream",
     "text": [
      "{'message': 'Hello, World!'}\n"
     ]
    }
   ],
   "source": [
    "url = \"http://127.0.0.1:8002/analyze\"\n",
    "ans = requests.get(\"http://127.0.0.1:8002/\")\n",
    "print(ans.json())"
   ]
  },
  {
   "cell_type": "code",
   "execution_count": 12,
   "metadata": {},
   "outputs": [],
   "source": [
    "data = {\n",
    "    \"text\":\"\"\"Gardening\n",
    "One of the quiet joys of life in the southern part of Ontario, Canada, is gardening.\n",
    "\n",
    "Whether pursued as a hobby or solely to improve the esthetic value of one's home, the pleasure derived is only exceeded by the therapeutic benefit. \n",
    "The exercise involved in working in a garden is helpful in keeping people in good physical condition.It has become a ritual for homeowners to spend late winter\n",
    " weekends browsing through seed catalogues while sitting on their couch. They make lists of items they wish to purchase and often make notations right on the catalogue \n",
    " as they make decisions about this year's garden.If they order early, there is usually a discount coupon, allowing a percentage of the cost to be deducted from the price.\"\"\"\n",
    "}\n",
    "response = requests.post(url, json=data, timeout=60)  # 设置超时时间为60秒\n"
   ]
  },
  {
   "cell_type": "code",
   "execution_count": 26,
   "metadata": {},
   "outputs": [
    {
     "name": "stdout",
     "output_type": "stream",
     "text": [
      "主题句：One of the quiet joys of life in the southern part of Ontario, Canada, is gardening.\n",
      "扩展说明：Whether pursued as a hobby or solely to improve the esthetic value of one's home, the pleasure derived is only exceeded by the therapeutic benefit.\n",
      "扩展说明：The exercise involved in working in a garden is helpful in keeping people in good physical condition.\n",
      "扩展说明：It has become a ritual for homeowners to spend late winter weekends browsing through seed catalogues while sitting on their couch.\n",
      "扩展说明：They make lists of items they wish to purchase and often make notations right on the catalogue as they make decisions about this year's garden.\n",
      "扩展说明：If they order early, there is usually a discount coupon, allowing a percentage of the cost to be deducted from the price.\n"
     ]
    }
   ],
   "source": [
    "ans = json.loads(response.json())\n",
    "# print(ans)\n",
    "for a in ans[\"structure\"]:\n",
    "    print(a)\n"
   ]
  },
  {
   "cell_type": "code",
   "execution_count": null,
   "metadata": {},
   "outputs": [],
   "source": []
  }
 ],
 "metadata": {
  "kernelspec": {
   "display_name": "venv",
   "language": "python",
   "name": "python3"
  },
  "language_info": {
   "codemirror_mode": {
    "name": "ipython",
    "version": 3
   },
   "file_extension": ".py",
   "mimetype": "text/x-python",
   "name": "python",
   "nbconvert_exporter": "python",
   "pygments_lexer": "ipython3",
   "version": "3.13.2"
  }
 },
 "nbformat": 4,
 "nbformat_minor": 2
}
