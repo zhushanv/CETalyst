{
 "cells": [
  {
   "cell_type": "code",
   "execution_count": 1,
   "metadata": {},
   "outputs": [],
   "source": [
    "import requests\n",
    "import json"
   ]
  },
  {
   "cell_type": "code",
   "execution_count": 2,
   "metadata": {},
   "outputs": [
    {
     "name": "stdout",
     "output_type": "stream",
     "text": [
      "{'message': 'Hello, World!'}\n"
     ]
    }
   ],
   "source": [
    "url = \"http://127.0.0.1:8002/analyze\"\n",
    "ans = requests.get(\"http://127.0.0.1:8002/\")\n",
    "print(ans.json())"
   ]
  },
  {
   "cell_type": "code",
   "execution_count": 3,
   "metadata": {},
   "outputs": [],
   "source": [
    "data = {\n",
    "    \"text\":\"\"\"Gardening\n",
    "One of the quiet joys of life in the southern part of Ontario, Canada, is gardening.\n",
    "\n",
    "Whether pursued as a hobby or solely to improve the esthetic value of one's home, the pleasure derived is only exceeded by the therapeutic benefit. \n",
    "The exercise involved in working in a garden is helpful in keeping people in good physical condition.It has become a ritual for homeowners to spend late winter\n",
    " weekends browsing through seed catalogues while sitting on their couch. They make lists of items they wish to purchase and often make notations right on the catalogue \n",
    " as they make decisions about this year's garden.If they order early, there is usually a discount coupon, allowing a percentage of the cost to be deducted from the price.\"\"\"\n",
    "}\n",
    "response = requests.post(url, json=data, timeout=60)  # 设置超时时间为60秒\n"
   ]
  },
  {
   "cell_type": "code",
   "execution_count": 10,
   "metadata": {},
   "outputs": [
    {
     "name": "stdout",
     "output_type": "stream",
     "text": [
      "主题句：加拿大安大略省南部生活中的静谧喜悦之一是园艺。\n",
      "扩展说明：园艺无论是作为爱好还是为了提升家居美观，其带来的乐趣仅次于其治疗效益。\n",
      "详细描述：园艺活动有助于保持身体健康，成为房主冬季末的惯例活动，包括浏览种子目录、列出购买清单等。\n",
      "补充信息：提前订购通常有折扣券，可以享受价格优惠。\n"
     ]
    }
   ],
   "source": [
    "\n",
    "ans = response.json()\n",
    "for a in ans[\"structure\"]:\n",
    "    print(a)\n"
   ]
  },
  {
   "cell_type": "code",
   "execution_count": null,
   "metadata": {},
   "outputs": [],
   "source": []
  }
 ],
 "metadata": {
  "kernelspec": {
   "display_name": "venv",
   "language": "python",
   "name": "python3"
  },
  "language_info": {
   "codemirror_mode": {
    "name": "ipython",
    "version": 3
   },
   "file_extension": ".py",
   "mimetype": "text/x-python",
   "name": "python",
   "nbconvert_exporter": "python",
   "pygments_lexer": "ipython3",
   "version": "3.13.2"
  }
 },
 "nbformat": 4,
 "nbformat_minor": 2
}
