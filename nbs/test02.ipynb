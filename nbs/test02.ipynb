{
 "cells": [
  {
   "cell_type": "code",
   "execution_count": 1,
   "metadata": {},
   "outputs": [],
   "source": [
    "import requests"
   ]
  },
  {
   "cell_type": "code",
   "execution_count": 2,
   "metadata": {},
   "outputs": [],
   "source": [
    "word = \"apple\"\n",
    "url = f\"https://api.dictionaryapi.dev/api/v2/entries/en/{word}\""
   ]
  },
  {
   "cell_type": "code",
   "execution_count": 3,
   "metadata": {},
   "outputs": [],
   "source": [
    "response = requests.get(url)\n",
    "data = response.json()"
   ]
  },
  {
   "cell_type": "code",
   "execution_count": 8,
   "metadata": {},
   "outputs": [
    {
     "name": "stdout",
     "output_type": "stream",
     "text": [
      "[{'word': 'apple', 'phonetic': '/ˈæp.əl/', 'phonetics': [{'text': '/ˈæp.əl/', 'audio': 'https://api.dictionaryapi.dev/media/pronunciations/en/apple-uk.mp3', 'sourceUrl': 'https://commons.wikimedia.org/w/index.php?curid=9014262', 'license': {'name': 'BY 3.0 US', 'url': 'https://creativecommons.org/licenses/by/3.0/us'}}, {'text': '/ˈæp.əl/', 'audio': 'https://api.dictionaryapi.dev/media/pronunciations/en/apple-us.mp3', 'sourceUrl': 'https://commons.wikimedia.org/w/index.php?curid=718877', 'license': {'name': 'BY-SA 3.0', 'url': 'https://creativecommons.org/licenses/by-sa/3.0'}}], 'meanings': [{'partOfSpeech': 'noun', 'definitions': [{'definition': 'A common, round fruit produced by the tree Malus domestica, cultivated in temperate climates.', 'synonyms': [], 'antonyms': []}, {'definition': 'Any of various tree-borne fruits or vegetables especially considered as resembling an apple; also (with qualifying words) used to form the names of other specific fruits such as custard apple, rose apple, thorn apple etc.', 'synonyms': [], 'antonyms': []}, {'definition': 'The fruit of the Tree of Knowledge, eaten by Adam and Eve according to post-Biblical Christian tradition; the forbidden fruit.', 'synonyms': [], 'antonyms': []}, {'definition': 'A tree of the genus Malus, especially one cultivated for its edible fruit; the apple tree.', 'synonyms': [], 'antonyms': []}, {'definition': 'The wood of the apple tree.', 'synonyms': [], 'antonyms': []}, {'definition': '(in the plural) Short for apples and pears, slang for stairs.', 'synonyms': [], 'antonyms': []}, {'definition': 'The ball in baseball.', 'synonyms': [], 'antonyms': []}, {'definition': 'When smiling, the round, fleshy part of the cheeks between the eyes and the corners of the mouth.', 'synonyms': [], 'antonyms': []}, {'definition': 'A Native American or red-skinned person who acts and/or thinks like a white (Caucasian) person.', 'synonyms': [], 'antonyms': []}, {'definition': '(ice hockey slang) An assist.', 'synonyms': [], 'antonyms': []}], 'synonyms': [], 'antonyms': []}, {'partOfSpeech': 'verb', 'definitions': [{'definition': 'To become apple-like.', 'synonyms': [], 'antonyms': []}, {'definition': 'To form buds.', 'synonyms': [], 'antonyms': []}], 'synonyms': [], 'antonyms': []}], 'license': {'name': 'CC BY-SA 3.0', 'url': 'https://creativecommons.org/licenses/by-sa/3.0'}, 'sourceUrls': ['https://en.wiktionary.org/wiki/apple']}]\n"
     ]
    }
   ],
   "source": [
    "print(data)"
   ]
  },
  {
   "cell_type": "code",
   "execution_count": null,
   "metadata": {},
   "outputs": [],
   "source": []
  }
 ],
 "metadata": {
  "kernelspec": {
   "display_name": "venv",
   "language": "python",
   "name": "python3"
  },
  "language_info": {
   "codemirror_mode": {
    "name": "ipython",
    "version": 3
   },
   "file_extension": ".py",
   "mimetype": "text/x-python",
   "name": "python",
   "nbconvert_exporter": "python",
   "pygments_lexer": "ipython3",
   "version": "3.13.2"
  }
 },
 "nbformat": 4,
 "nbformat_minor": 2
}
